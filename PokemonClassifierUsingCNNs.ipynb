{
  "nbformat": 4,
  "nbformat_minor": 0,
  "metadata": {
    "colab": {
      "name": "PokemonClassifierUsingCNNs.ipynb",
      "provenance": [],
      "collapsed_sections": []
    },
    "kernelspec": {
      "name": "python3",
      "display_name": "Python 3"
    },
    "accelerator": "GPU"
  },
  "cells": [
    {
      "cell_type": "code",
      "metadata": {
        "id": "KYKlFuYNU8Gb",
        "colab_type": "code",
        "colab": {}
      },
      "source": [
        "import os\n",
        "folders=os.listdir('images')"
      ],
      "execution_count": 0,
      "outputs": []
    },
    {
      "cell_type": "code",
      "metadata": {
        "id": "BP_0934oWD2s",
        "colab_type": "code",
        "colab": {}
      },
      "source": [
        "image_data=[]\n",
        "labels=[]\n",
        "labels_dict={ \n",
        "     \"Aerodactyl\" : 0,  \n",
        "    \"Bulbasaur\" : 1,  \n",
        "     \"Charmander\" : 2, \n",
        "     \"Dratini\" : 3,  \n",
        "     \"Fearow\" : 4,  \n",
        "     \"Meowth\" : 5,  \n",
        "     \"Pikachu\" : 6,  \n",
        "     \"Psyduck\" : 7,  \n",
        "     \"Spearow\" : 8,  \n",
        "     \"Squirtle\" : 9  \n",
        "}\n"
      ],
      "execution_count": 0,
      "outputs": []
    },
    {
      "cell_type": "code",
      "metadata": {
        "id": "mluO0Kg5WH5I",
        "colab_type": "code",
        "outputId": "c0de81af-8e25-4a3b-8164-5f1234f02b2d",
        "colab": {
          "base_uri": "https://localhost:8080/",
          "height": 71
        }
      },
      "source": [
        "from keras_preprocessing import image\n",
        "for ix in folders:\n",
        "  patho=os.path.join(\"images\",ix)\n",
        "  for pth, dirs, files in os.walk(patho):\n",
        "     for f in files :\n",
        "       samplepath=os.path.join(patho,f)\n",
        "       img=image.load_img(samplepath,target_size=((224,224)))\n",
        "       img_array=image.img_to_array(img)\n",
        "       image_data.append(img_array)\n",
        "       labels.append(labels_dict[ix])"
      ],
      "execution_count": 0,
      "outputs": [
        {
          "output_type": "stream",
          "text": [
            "/usr/local/lib/python3.6/dist-packages/PIL/Image.py:932: UserWarning: Palette images with Transparency expressed in bytes should be converted to RGBA images\n",
            "  \"Palette images with Transparency expressed in bytes should be \"\n"
          ],
          "name": "stderr"
        }
      ]
    },
    {
      "cell_type": "code",
      "metadata": {
        "id": "li9mVkm6WLyI",
        "colab_type": "code",
        "outputId": "2132cfca-6b61-411b-e6d6-7a1dea4a5489",
        "colab": {
          "base_uri": "https://localhost:8080/",
          "height": 34
        }
      },
      "source": [
        "import numpy as np\n",
        "from keras.utils import np_utils\n",
        "X_train=np.array(image_data)\n",
        "Y_train=np_utils.to_categorical(labels)\n"
      ],
      "execution_count": 0,
      "outputs": [
        {
          "output_type": "stream",
          "text": [
            "Using TensorFlow backend.\n"
          ],
          "name": "stderr"
        }
      ]
    },
    {
      "cell_type": "code",
      "metadata": {
        "id": "5cE-vZzcXGd7",
        "colab_type": "code",
        "outputId": "40f36ca0-4471-41ed-a844-3e403c90411b",
        "colab": {
          "base_uri": "https://localhost:8080/",
          "height": 34
        }
      },
      "source": [
        "X_train.shape"
      ],
      "execution_count": 0,
      "outputs": [
        {
          "output_type": "execute_result",
          "data": {
            "text/plain": [
              "(1645, 224, 224, 3)"
            ]
          },
          "metadata": {
            "tags": []
          },
          "execution_count": 15
        }
      ]
    },
    {
      "cell_type": "code",
      "metadata": {
        "id": "poUlq98rXJEN",
        "colab_type": "code",
        "outputId": "3c49c657-6332-4f3d-cd3e-673347bdf9e2",
        "colab": {
          "base_uri": "https://localhost:8080/",
          "height": 34
        }
      },
      "source": [
        "Y_train.shape"
      ],
      "execution_count": 0,
      "outputs": [
        {
          "output_type": "execute_result",
          "data": {
            "text/plain": [
              "(1645, 10)"
            ]
          },
          "metadata": {
            "tags": []
          },
          "execution_count": 16
        }
      ]
    },
    {
      "cell_type": "code",
      "metadata": {
        "id": "wJUkpQ9dXMme",
        "colab_type": "code",
        "colab": {}
      },
      "source": [
        "from tensorflow.keras.layers import Conv2D,Activation,MaxPool2D,BatchNormalization,Flatten,Dense,Dropout\n",
        "from tensorflow.keras import Sequential"
      ],
      "execution_count": 0,
      "outputs": []
    },
    {
      "cell_type": "code",
      "metadata": {
        "id": "F6-jntmmXUVR",
        "colab_type": "code",
        "outputId": "2ba1faf0-1de4-474e-955b-54a93bb2d806",
        "colab": {
          "base_uri": "https://localhost:8080/",
          "height": 54
        }
      },
      "source": [
        "model=Sequential()\n",
        "model.add(Conv2D(96,kernel_size=(11,11),strides=(4,4),padding='valid',input_shape=((224,224,3))))\n",
        "model.add(Activation('relu'))\n",
        "model.add(MaxPool2D(pool_size=(2,2),strides=(2,2),padding='valid'))\n",
        "model.add(BatchNormalization())\n",
        "model.add(Conv2D(256,kernel_size=(11,11),strides=(1,1)))\n",
        "model.add(Activation('relu'))\n",
        "model.add(MaxPool2D(pool_size=(2,2),strides=(2,2)))\n",
        "model.add(BatchNormalization())\n",
        "model.add(Conv2D(384,kernel_size=(3,3),strides=(1,1)))\n",
        "model.add(Activation('relu'))\n",
        "model.add(BatchNormalization())\n",
        "model.add(Conv2D(384,kernel_size=(3,3),strides=(1,1)))\n",
        "model.add(Activation('relu'))\n",
        "model.add(BatchNormalization())\n",
        "model.add(Conv2D(256,kernel_size=(3,3),strides=(1,1)))\n",
        "model.add(Activation('relu'))\n",
        "model.add(MaxPool2D(pool_size=(2,2),strides=(2,2)))\n",
        "model.add(BatchNormalization())\n",
        "model.add(Flatten())\n",
        "model.add(Dense(4096,activation='relu'))\n",
        "model.add(Dropout(0.4))\n",
        "model.add(BatchNormalization())\n",
        "model.add(Dense(4096,activation='relu'))\n",
        "model.add(Dropout(0.4))\n",
        "model.add(BatchNormalization())\n",
        "model.add(Dense(10,activation='softmax'))\n",
        "model.compile(loss='categorical_crossentropy',optimizer='adam',metrics=['accuracy'])\n",
        "model.summary\n"
      ],
      "execution_count": 0,
      "outputs": [
        {
          "output_type": "execute_result",
          "data": {
            "text/plain": [
              "<bound method Network.summary of <tensorflow.python.keras.engine.sequential.Sequential object at 0x7f5722e90908>>"
            ]
          },
          "metadata": {
            "tags": []
          },
          "execution_count": 18
        }
      ]
    },
    {
      "cell_type": "code",
      "metadata": {
        "id": "qVWfD8tfX7y5",
        "colab_type": "code",
        "outputId": "d48f0acd-cf1e-457e-ca1f-918aeb1e7fab",
        "colab": {
          "base_uri": "https://localhost:8080/",
          "height": 1000
        }
      },
      "source": [
        "model.summary()"
      ],
      "execution_count": 0,
      "outputs": [
        {
          "output_type": "stream",
          "text": [
            "Model: \"sequential\"\n",
            "_________________________________________________________________\n",
            "Layer (type)                 Output Shape              Param #   \n",
            "=================================================================\n",
            "conv2d (Conv2D)              (None, 54, 54, 96)        34944     \n",
            "_________________________________________________________________\n",
            "activation (Activation)      (None, 54, 54, 96)        0         \n",
            "_________________________________________________________________\n",
            "max_pooling2d (MaxPooling2D) (None, 27, 27, 96)        0         \n",
            "_________________________________________________________________\n",
            "batch_normalization (BatchNo (None, 27, 27, 96)        384       \n",
            "_________________________________________________________________\n",
            "conv2d_1 (Conv2D)            (None, 17, 17, 256)       2973952   \n",
            "_________________________________________________________________\n",
            "activation_1 (Activation)    (None, 17, 17, 256)       0         \n",
            "_________________________________________________________________\n",
            "max_pooling2d_1 (MaxPooling2 (None, 8, 8, 256)         0         \n",
            "_________________________________________________________________\n",
            "batch_normalization_1 (Batch (None, 8, 8, 256)         1024      \n",
            "_________________________________________________________________\n",
            "conv2d_2 (Conv2D)            (None, 6, 6, 384)         885120    \n",
            "_________________________________________________________________\n",
            "activation_2 (Activation)    (None, 6, 6, 384)         0         \n",
            "_________________________________________________________________\n",
            "batch_normalization_2 (Batch (None, 6, 6, 384)         1536      \n",
            "_________________________________________________________________\n",
            "conv2d_3 (Conv2D)            (None, 4, 4, 384)         1327488   \n",
            "_________________________________________________________________\n",
            "activation_3 (Activation)    (None, 4, 4, 384)         0         \n",
            "_________________________________________________________________\n",
            "batch_normalization_3 (Batch (None, 4, 4, 384)         1536      \n",
            "_________________________________________________________________\n",
            "conv2d_4 (Conv2D)            (None, 2, 2, 256)         884992    \n",
            "_________________________________________________________________\n",
            "activation_4 (Activation)    (None, 2, 2, 256)         0         \n",
            "_________________________________________________________________\n",
            "max_pooling2d_2 (MaxPooling2 (None, 1, 1, 256)         0         \n",
            "_________________________________________________________________\n",
            "batch_normalization_4 (Batch (None, 1, 1, 256)         1024      \n",
            "_________________________________________________________________\n",
            "flatten (Flatten)            (None, 256)               0         \n",
            "_________________________________________________________________\n",
            "dense (Dense)                (None, 4096)              1052672   \n",
            "_________________________________________________________________\n",
            "dropout (Dropout)            (None, 4096)              0         \n",
            "_________________________________________________________________\n",
            "batch_normalization_5 (Batch (None, 4096)              16384     \n",
            "_________________________________________________________________\n",
            "dense_1 (Dense)              (None, 4096)              16781312  \n",
            "_________________________________________________________________\n",
            "dropout_1 (Dropout)          (None, 4096)              0         \n",
            "_________________________________________________________________\n",
            "batch_normalization_6 (Batch (None, 4096)              16384     \n",
            "_________________________________________________________________\n",
            "dense_2 (Dense)              (None, 10)                40970     \n",
            "=================================================================\n",
            "Total params: 24,019,722\n",
            "Trainable params: 24,000,586\n",
            "Non-trainable params: 19,136\n",
            "_________________________________________________________________\n"
          ],
          "name": "stdout"
        }
      ]
    },
    {
      "cell_type": "code",
      "metadata": {
        "id": "hvuVjgm1gsG3",
        "colab_type": "code",
        "outputId": "58e70eea-bc4e-4423-c619-8e633a01c089",
        "colab": {
          "base_uri": "https://localhost:8080/",
          "height": 1000
        }
      },
      "source": [
        "model.fit(X_train,Y_train,epochs=40,batch_size=64,val_size=0.2,shuffle=True)"
      ],
      "execution_count": 0,
      "outputs": [
        {
          "output_type": "stream",
          "text": [
            "Epoch 1/40\n",
            "26/26 [==============================] - 4s 154ms/step - loss: 3.1115 - accuracy: 0.4067\n",
            "Epoch 2/40\n",
            "26/26 [==============================] - 3s 113ms/step - loss: 1.6216 - accuracy: 0.5593\n",
            "Epoch 3/40\n",
            "26/26 [==============================] - 3s 112ms/step - loss: 1.3553 - accuracy: 0.6170\n",
            "Epoch 4/40\n",
            "26/26 [==============================] - 3s 111ms/step - loss: 1.1951 - accuracy: 0.6340\n",
            "Epoch 5/40\n",
            "26/26 [==============================] - 3s 111ms/step - loss: 1.0046 - accuracy: 0.6900\n",
            "Epoch 6/40\n",
            "26/26 [==============================] - 3s 113ms/step - loss: 0.9165 - accuracy: 0.7258\n",
            "Epoch 7/40\n",
            "26/26 [==============================] - 3s 113ms/step - loss: 0.8690 - accuracy: 0.7252\n",
            "Epoch 8/40\n",
            "26/26 [==============================] - 3s 112ms/step - loss: 0.8233 - accuracy: 0.7386\n",
            "Epoch 9/40\n",
            "26/26 [==============================] - 3s 112ms/step - loss: 0.7031 - accuracy: 0.7629\n",
            "Epoch 10/40\n",
            "26/26 [==============================] - 3s 112ms/step - loss: 0.6424 - accuracy: 0.7915\n",
            "Epoch 11/40\n",
            "26/26 [==============================] - 3s 113ms/step - loss: 0.6031 - accuracy: 0.8091\n",
            "Epoch 12/40\n",
            "26/26 [==============================] - 3s 112ms/step - loss: 0.5660 - accuracy: 0.8274\n",
            "Epoch 13/40\n",
            "26/26 [==============================] - 3s 111ms/step - loss: 0.5667 - accuracy: 0.8170\n",
            "Epoch 14/40\n",
            "26/26 [==============================] - 3s 112ms/step - loss: 0.5503 - accuracy: 0.8182\n",
            "Epoch 15/40\n",
            "26/26 [==============================] - 3s 111ms/step - loss: 0.4942 - accuracy: 0.8407\n",
            "Epoch 16/40\n",
            "26/26 [==============================] - 3s 111ms/step - loss: 0.4542 - accuracy: 0.8571\n",
            "Epoch 17/40\n",
            "26/26 [==============================] - 3s 111ms/step - loss: 0.3778 - accuracy: 0.8760\n",
            "Epoch 18/40\n",
            "26/26 [==============================] - 3s 112ms/step - loss: 0.4485 - accuracy: 0.8638\n",
            "Epoch 19/40\n",
            "26/26 [==============================] - 3s 111ms/step - loss: 0.3824 - accuracy: 0.8711\n",
            "Epoch 20/40\n",
            "26/26 [==============================] - 3s 113ms/step - loss: 0.4245 - accuracy: 0.8626\n",
            "Epoch 21/40\n",
            "26/26 [==============================] - 3s 111ms/step - loss: 0.3146 - accuracy: 0.8936\n",
            "Epoch 22/40\n",
            "26/26 [==============================] - 3s 112ms/step - loss: 0.3403 - accuracy: 0.8997\n",
            "Epoch 23/40\n",
            "26/26 [==============================] - 3s 113ms/step - loss: 0.2634 - accuracy: 0.9155\n",
            "Epoch 24/40\n",
            "26/26 [==============================] - 3s 111ms/step - loss: 0.2703 - accuracy: 0.9149\n",
            "Epoch 25/40\n",
            "26/26 [==============================] - 3s 112ms/step - loss: 0.2462 - accuracy: 0.9210\n",
            "Epoch 26/40\n",
            "26/26 [==============================] - 3s 110ms/step - loss: 0.1935 - accuracy: 0.9422\n",
            "Epoch 27/40\n",
            "26/26 [==============================] - 3s 112ms/step - loss: 0.2689 - accuracy: 0.9179\n",
            "Epoch 28/40\n",
            "26/26 [==============================] - 3s 112ms/step - loss: 0.3357 - accuracy: 0.8997\n",
            "Epoch 29/40\n",
            "26/26 [==============================] - 3s 112ms/step - loss: 0.3362 - accuracy: 0.8924\n",
            "Epoch 30/40\n",
            "26/26 [==============================] - 3s 111ms/step - loss: 0.2566 - accuracy: 0.9082\n",
            "Epoch 31/40\n",
            "26/26 [==============================] - 3s 111ms/step - loss: 0.2301 - accuracy: 0.9240\n",
            "Epoch 32/40\n",
            "26/26 [==============================] - 3s 112ms/step - loss: 0.1908 - accuracy: 0.9386\n",
            "Epoch 33/40\n",
            "26/26 [==============================] - 3s 111ms/step - loss: 0.1995 - accuracy: 0.9398\n",
            "Epoch 34/40\n",
            "26/26 [==============================] - 3s 112ms/step - loss: 0.2441 - accuracy: 0.9264\n",
            "Epoch 35/40\n",
            "26/26 [==============================] - 3s 113ms/step - loss: 0.1605 - accuracy: 0.9453\n",
            "Epoch 36/40\n",
            "26/26 [==============================] - 3s 112ms/step - loss: 0.1393 - accuracy: 0.9495\n",
            "Epoch 37/40\n",
            "26/26 [==============================] - 3s 111ms/step - loss: 0.1242 - accuracy: 0.9593\n",
            "Epoch 38/40\n",
            "26/26 [==============================] - 3s 111ms/step - loss: 0.1050 - accuracy: 0.9696\n",
            "Epoch 39/40\n",
            "26/26 [==============================] - 3s 111ms/step - loss: 0.1627 - accuracy: 0.9459\n",
            "Epoch 40/40\n",
            "26/26 [==============================] - 3s 110ms/step - loss: 0.1315 - accuracy: 0.9574\n"
          ],
          "name": "stdout"
        },
        {
          "output_type": "execute_result",
          "data": {
            "text/plain": [
              "<tensorflow.python.keras.callbacks.History at 0x7f57200b9b70>"
            ]
          },
          "metadata": {
            "tags": []
          },
          "execution_count": 20
        }
      ]
    },
    {
      "cell_type": "code",
      "metadata": {
        "id": "a6cR7yOQytSC",
        "colab_type": "code",
        "outputId": "ff920306-8dc7-4541-f35d-68c29cb4fc7c",
        "colab": {
          "base_uri": "https://localhost:8080/",
          "height": 51
        }
      },
      "source": [
        "model.evaluate(X_train,Y_train)"
      ],
      "execution_count": 0,
      "outputs": [
        {
          "output_type": "stream",
          "text": [
            "52/52 [==============================] - 2s 30ms/step - loss: 0.2431 - accuracy: 0.9313\n"
          ],
          "name": "stdout"
        },
        {
          "output_type": "execute_result",
          "data": {
            "text/plain": [
              "[0.24308910965919495, 0.9313070178031921]"
            ]
          },
          "metadata": {
            "tags": []
          },
          "execution_count": 21
        }
      ]
    },
    {
      "cell_type": "code",
      "metadata": {
        "id": "EekD_MjbQIOk",
        "colab_type": "code",
        "colab": {}
      },
      "source": [
        ""
      ],
      "execution_count": 0,
      "outputs": []
    }
  ]
}